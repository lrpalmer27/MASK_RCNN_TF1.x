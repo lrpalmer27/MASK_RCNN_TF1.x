{
 "cells": [
  {
   "cell_type": "code",
   "execution_count": 1,
   "metadata": {},
   "outputs": [],
   "source": [
    "import json\n",
    "import os\n",
    "ROOT_DIR = os.path.dirname(os.getcwd())\n",
    "dataset_path=os.path.join(ROOT_DIR,'IceData','NRC_data_multi_stage_big')\n"
   ]
  },
  {
   "cell_type": "code",
   "execution_count": 2,
   "metadata": {},
   "outputs": [],
   "source": [
    "subset='train' ## OR 'val'\n",
    "dataset_dir=os.path.join(dataset_path,subset)"
   ]
  },
  {
   "cell_type": "code",
   "execution_count": 3,
   "metadata": {},
   "outputs": [],
   "source": [
    "annotations = json.load(open(os.path.join(dataset_dir, \"via_region_data_prjct.json\")))\n",
    "# annotations = list(annotations.values())  # don't need the dict keys\n",
    "\n",
    "workingAnnotations=json.load(open(os.path.join(dataset_dir, \"via_region_data.json\")))\n",
    "workingAnnotations = list(workingAnnotations.values())"
   ]
  },
  {
   "cell_type": "code",
   "execution_count": 4,
   "metadata": {},
   "outputs": [
    {
     "name": "stdout",
     "output_type": "stream",
     "text": [
      "OK\n"
     ]
    }
   ],
   "source": [
    "# workingAnnotations=[a for a in workingAnnotations if a['regions']]\n",
    "# annotations = [a for a in annotations if a['regions']]\n",
    "# [print(a) for a in workingAnnotations]\n",
    "# [print(a) for a in annotations]\n",
    "\n",
    "a=annotations['_via_img_metadata']\n",
    "annotations=list(a.values())\n",
    "\n",
    "if annotations==workingAnnotations:\n",
    "    print(\"OK\")"
   ]
  }
 ],
 "metadata": {
  "kernelspec": {
   "display_name": ".py370venv",
   "language": "python",
   "name": "python3"
  },
  "language_info": {
   "codemirror_mode": {
    "name": "ipython",
    "version": 3
   },
   "file_extension": ".py",
   "mimetype": "text/x-python",
   "name": "python",
   "nbconvert_exporter": "python",
   "pygments_lexer": "ipython3",
   "version": "3.7.0"
  }
 },
 "nbformat": 4,
 "nbformat_minor": 2
}
