{
 "cells": [
  {
   "cell_type": "code",
   "execution_count": null,
   "metadata": {},
   "outputs": [],
   "source": [
    "import mrcnn\n",
    "from mrcnn.config import Config\n",
    "import mrcnn.model\n",
    "import mrcnn.visualize\n",
    "import cv2\n",
    "import random\n",
    "import re\n",
    "import pandas as pd\n",
    "import numpy as np\n",
    "import math\n",
    "import bisect\n",
    "import time\n",
    "import statistics\n",
    "import matplotlib\n",
    "import matplotlib.pyplot as plt\n",
    "import pylab"
   ]
  },
  {
   "cell_type": "code",
   "execution_count": 12,
   "metadata": {},
   "outputs": [
    {
     "name": "stdout",
     "output_type": "stream",
     "text": [
      "[0, 0.0004, -9.817671428999999, -0.727092857, 9.844985714285713, 1.6574785714285711, '12p5', '9ths', '0p5kts', '0p6m', 0, 1]\n"
     ]
    }
   ],
   "source": [
    "\n",
    "df=pd.read_csv(r\"C:\\Users\\logan\\Desktop\\MEng\\Mask_RCNN\\.rawForcedata\\12p5m_9ths_0p5kts_0p6m_0deg_001_Processed_MS_50Hz.csv\")\n",
    "temp=df.values.tolist()[0]\n",
    "\n",
    "print(temp)"
   ]
  }
 ],
 "metadata": {
  "kernelspec": {
   "display_name": ".py379_venv",
   "language": "python",
   "name": "python3"
  },
  "language_info": {
   "codemirror_mode": {
    "name": "ipython",
    "version": 3
   },
   "file_extension": ".py",
   "mimetype": "text/x-python",
   "name": "python",
   "nbconvert_exporter": "python",
   "pygments_lexer": "ipython3",
   "version": "3.7.0"
  }
 },
 "nbformat": 4,
 "nbformat_minor": 2
}
