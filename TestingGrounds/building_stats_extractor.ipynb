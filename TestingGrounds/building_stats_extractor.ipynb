{
 "cells": [
  {
   "cell_type": "code",
   "execution_count": null,
   "metadata": {},
   "outputs": [],
   "source": [
    "import mrcnn\n",
    "from mrcnn.config import Config\n",
    "import mrcnn.model\n",
    "import mrcnn.visualize\n",
    "import cv2\n",
    "import random\n",
    "import re\n",
    "import pandas as pd\n",
    "import numpy as np\n",
    "import math\n",
    "import bisect\n",
    "import time\n",
    "import statistics\n",
    "import matplotlib\n",
    "import matplotlib.pyplot as plt\n",
    "import pylab"
   ]
  },
  {
   "cell_type": "code",
   "execution_count": 4,
   "metadata": {},
   "outputs": [
    {
     "data": {
      "text/plain": [
       "array([102.19411376, 154.99060038, 129.73111352])"
      ]
     },
     "execution_count": 4,
     "metadata": {},
     "output_type": "execute_result"
    }
   ],
   "source": [
    "import cv2\n",
    "import numpy as np\n",
    "image = cv2.imread(r\"C:\\Users\\logan\\Desktop\\MEng\\Mask_RCNN\\IceData\\test_imgs\\25m_7ths_1p2kts_0p6m_0deg_001_c_overhead_frame278.png\")\n",
    "\n",
    "# print(image.shape[0],image.shape[1])\n",
    "\n",
    "# image.mean()\n",
    "np.mean(image, axis=(0, 1))"
   ]
  }
 ],
 "metadata": {
  "kernelspec": {
   "display_name": ".py379_venv",
   "language": "python",
   "name": "python3"
  },
  "language_info": {
   "codemirror_mode": {
    "name": "ipython",
    "version": 3
   },
   "file_extension": ".py",
   "mimetype": "text/x-python",
   "name": "python",
   "nbconvert_exporter": "python",
   "pygments_lexer": "ipython3",
   "version": "3.7.0"
  }
 },
 "nbformat": 4,
 "nbformat_minor": 2
}
